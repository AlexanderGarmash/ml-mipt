{
 "cells": [
  {
   "cell_type": "markdown",
   "metadata": {
    "colab_type": "text",
    "id": "v5Fj-ahf25os"
   },
   "source": [
    "# Домашнее задание №1: Классификация. \n",
    "# Логистическая регрессия и kNN."
   ]
  },
  {
   "cell_type": "markdown",
   "metadata": {},
   "source": [
    "Форма для сдачи будет опубликована позднее."
   ]
  },
  {
   "cell_type": "markdown",
   "metadata": {},
   "source": [
    "### Пожалуйста, не производите никаких манипуляций с  переменной `_dict_for_submission` и с ячейками, в которых она используется. На ее основе будет сгенерирован итоговый файл для сдачи задания."
   ]
  },
  {
   "cell_type": "code",
   "execution_count": 1,
   "metadata": {},
   "outputs": [],
   "source": [
    "# Do not change me, just run\n",
    "# !!!!!!!!!!!!!!!!!!!!!!!!!!!!!!!!!!!!!!!!!!!!!!!!\n",
    "_dict_for_submission = dict()\n",
    "\n",
    "\n",
    "def transform_list(list_of_ints):\n",
    "    return [str(x) for x in list_of_ints]\n",
    "# !!!!!!!!!!!!!!!!!!!!!!!!!!!!!!!!!!!!!!!!!!!!!!!!"
   ]
  },
  {
   "cell_type": "markdown",
   "metadata": {
    "colab_type": "text",
    "id": "qZX1Urv425ov"
   },
   "source": [
    "### Часть 1. Небольшой numpy-разогрев. (10%)"
   ]
  },
  {
   "cell_type": "code",
   "execution_count": 2,
   "metadata": {
    "colab": {
     "autoexec": {
      "startup": false,
      "wait_interval": 0
     }
    },
    "colab_type": "code",
    "id": "ABwrGwvF25ow"
   },
   "outputs": [],
   "source": [
    "import numpy as np\n",
    "import pandas as pd"
   ]
  },
  {
   "cell_type": "code",
   "execution_count": 4,
   "metadata": {
    "colab": {
     "autoexec": {
      "startup": false,
      "wait_interval": 0
     }
    },
    "colab_type": "code",
    "id": "GYgIRlqf25o0"
   },
   "outputs": [],
   "source": [
    "# Создайте матрицу A размерами 10 на 10 из упорядоченных целых чисел от 0 до 100\n",
    "# hint: np.arange(100).reshape((10, 10))\n",
    "\n",
    "A = np.arange(100).reshape((10, 10))"
   ]
  },
  {
   "cell_type": "code",
   "execution_count": 5,
   "metadata": {
    "colab": {
     "autoexec": {
      "startup": false,
      "wait_interval": 0
     }
    },
    "colab_type": "code",
    "id": "7aB62Lzk25o2"
   },
   "outputs": [
    {
     "data": {
      "text/plain": [
       "[45.0, 46.0, 47.0, 48.0, 49.0, 50.0, 51.0, 52.0, 53.0, 54.0]"
      ]
     },
     "execution_count": 5,
     "metadata": {},
     "output_type": "execute_result"
    }
   ],
   "source": [
    "# Посчитайте средние значения в матрице по столбцам\n",
    "\n",
    "[np.average(A[:, i]) for i in range(np.size(A, 1))]"
   ]
  },
  {
   "cell_type": "code",
   "execution_count": 6,
   "metadata": {
    "colab": {
     "autoexec": {
      "startup": false,
      "wait_interval": 0
     }
    },
    "colab_type": "code",
    "id": "MTLnNqV425o5"
   },
   "outputs": [
    {
     "data": {
      "text/plain": [
       "array([[ 0, 10, 20, 30, 40, 50, 60, 70, 80, 90],\n",
       "       [ 1, 11, 21, 31, 41, 51, 61, 71, 81, 91],\n",
       "       [ 2, 12, 22, 32, 42, 52, 62, 72, 82, 92],\n",
       "       [ 3, 13, 23, 33, 43, 53, 63, 73, 83, 93],\n",
       "       [ 4, 14, 24, 34, 44, 54, 64, 74, 84, 94],\n",
       "       [ 5, 15, 25, 35, 45, 55, 65, 75, 85, 95],\n",
       "       [ 6, 16, 26, 36, 46, 56, 66, 76, 86, 96],\n",
       "       [ 7, 17, 27, 37, 47, 57, 67, 77, 87, 97],\n",
       "       [ 8, 18, 28, 38, 48, 58, 68, 78, 88, 98],\n",
       "       [ 9, 19, 29, 39, 49, 59, 69, 79, 89, 99]])"
      ]
     },
     "execution_count": 6,
     "metadata": {},
     "output_type": "execute_result"
    }
   ],
   "source": [
    "# Транспонируйте матрицу A\n",
    "\n",
    "A.T"
   ]
  },
  {
   "cell_type": "code",
   "execution_count": 7,
   "metadata": {
    "colab": {
     "autoexec": {
      "startup": false,
      "wait_interval": 0
     }
    },
    "colab_type": "code",
    "id": "WgDUhrYV25o8"
   },
   "outputs": [
    {
     "data": {
      "text/plain": [
       "array([[   0,   10,   40,   90,  160,  250,  360,  490,  640,  810],\n",
       "       [  10,  121,  252,  403,  574,  765,  976, 1207, 1458, 1729],\n",
       "       [  40,  252,  484,  736, 1008, 1300, 1612, 1944, 2296, 2668],\n",
       "       [  90,  403,  736, 1089, 1462, 1855, 2268, 2701, 3154, 3627],\n",
       "       [ 160,  574, 1008, 1462, 1936, 2430, 2944, 3478, 4032, 4606],\n",
       "       [ 250,  765, 1300, 1855, 2430, 3025, 3640, 4275, 4930, 5605],\n",
       "       [ 360,  976, 1612, 2268, 2944, 3640, 4356, 5092, 5848, 6624],\n",
       "       [ 490, 1207, 1944, 2701, 3478, 4275, 5092, 5929, 6786, 7663],\n",
       "       [ 640, 1458, 2296, 3154, 4032, 4930, 5848, 6786, 7744, 8722],\n",
       "       [ 810, 1729, 2668, 3627, 4606, 5605, 6624, 7663, 8722, 9801]])"
      ]
     },
     "execution_count": 7,
     "metadata": {},
     "output_type": "execute_result"
    }
   ],
   "source": [
    "# Перемножьте поэлементно матрицу A и транспонированную матрицу A \n",
    "\n",
    "np.multiply(A, np.transpose(A))"
   ]
  },
  {
   "cell_type": "code",
   "execution_count": 8,
   "metadata": {
    "colab": {
     "autoexec": {
      "startup": false,
      "wait_interval": 0
     }
    },
    "colab_type": "code",
    "id": "xwgLyFDD25o9"
   },
   "outputs": [
    {
     "data": {
      "text/plain": [
       "array([[ 2850,  2895,  2940,  2985,  3030,  3075,  3120,  3165,  3210,\n",
       "         3255],\n",
       "       [ 7350,  7495,  7640,  7785,  7930,  8075,  8220,  8365,  8510,\n",
       "         8655],\n",
       "       [11850, 12095, 12340, 12585, 12830, 13075, 13320, 13565, 13810,\n",
       "        14055],\n",
       "       [16350, 16695, 17040, 17385, 17730, 18075, 18420, 18765, 19110,\n",
       "        19455],\n",
       "       [20850, 21295, 21740, 22185, 22630, 23075, 23520, 23965, 24410,\n",
       "        24855],\n",
       "       [25350, 25895, 26440, 26985, 27530, 28075, 28620, 29165, 29710,\n",
       "        30255],\n",
       "       [29850, 30495, 31140, 31785, 32430, 33075, 33720, 34365, 35010,\n",
       "        35655],\n",
       "       [34350, 35095, 35840, 36585, 37330, 38075, 38820, 39565, 40310,\n",
       "        41055],\n",
       "       [38850, 39695, 40540, 41385, 42230, 43075, 43920, 44765, 45610,\n",
       "        46455],\n",
       "       [43350, 44295, 45240, 46185, 47130, 48075, 49020, 49965, 50910,\n",
       "        51855]])"
      ]
     },
     "execution_count": 8,
     "metadata": {},
     "output_type": "execute_result"
    }
   ],
   "source": [
    "# Посчитайте matrix product (результат матричного умножения) матрицы A на саму себя и запишите в матрицу B\n",
    "# https://en.wikipedia.org/wiki/Matrix_multiplication\n",
    "# or https://docs.scipy.org/doc/numpy/reference/generated/numpy.dot.html\n",
    "\n",
    "B = A @ A\n",
    "B"
   ]
  },
  {
   "cell_type": "markdown",
   "metadata": {},
   "source": [
    "#### Не меняйте следующую ячейку. Просто запустите ее."
   ]
  },
  {
   "cell_type": "code",
   "execution_count": 9,
   "metadata": {},
   "outputs": [],
   "source": [
    "# Do not change me, just run\n",
    "# !!!!!!!!!!!!!!!!!!!!!!!!!!!!!!!!!!!!!!!!!!!!!!!!\n",
    "_dict_for_submission['B'] = transform_list(list(B.flatten()))\n",
    "# !!!!!!!!!!!!!!!!!!!!!!!!!!!!!!!!!!!!!!!!!!!!!!!!"
   ]
  },
  {
   "cell_type": "markdown",
   "metadata": {
    "colab_type": "text",
    "id": "9S8tqIMG25pb"
   },
   "source": [
    "### Часть 2. Логистическая регрессия и kNN."
   ]
  },
  {
   "cell_type": "markdown",
   "metadata": {
    "colab_type": "text",
    "id": "T2docs4225pb"
   },
   "source": [
    "Будем работать с подвыборкой из [данных о типе лесного покрытия из репозитория UCI](http://archive.ics.uci.edu/ml/datasets/Covertype). Доступно 7 различных классов. Каждый объект описывается 54 признаками, 40 из которых являются бинарными. Описание данных доступно по ссылке, а так же в файле `covtype.info.txt`."
   ]
  },
  {
   "cell_type": "code",
   "execution_count": 10,
   "metadata": {},
   "outputs": [],
   "source": [
    "import pandas as pd"
   ]
  },
  {
   "cell_type": "code",
   "execution_count": null,
   "metadata": {},
   "outputs": [],
   "source": [
    "# If on colab, uncomment the following lines\n",
    "\n",
    "# !wget \"https://downloader.disk.yandex.com/disk/cd3ead013809a9da37434c792796d4b063dfc89571c68c273ca3788013b82bf8/5d865a2d/8bfV6Unxao6CYWcER5-G5fza25GZaFjE_xFvc0-ExCwlqmFjBf2bynRfBnL6ubJC8XhsoYHi7h9Nu6gfvS8wxg%3D%3D?uid=76549735&filename=forest_dataset.csv&disposition=attachment&hash=&limit=0&content_type=application%2Fvnd.ms-excel&owner_uid=76549735&fsize=1293856&hid=9b439c18e67923b45c3b3d8891bdf9ab&media_type=spreadsheet&tknv=v2&etag=45e530aa3c9796cb705d4e27be7a6e9c\" -O forest_dataset.csv"
   ]
  },
  {
   "cell_type": "code",
   "execution_count": 11,
   "metadata": {
    "colab": {
     "autoexec": {
      "startup": false,
      "wait_interval": 0
     }
    },
    "colab_type": "code",
    "id": "rvPrVRvK25pc"
   },
   "outputs": [],
   "source": [
    "all_data = pd.read_csv('forest_dataset.csv')"
   ]
  },
  {
   "cell_type": "markdown",
   "metadata": {
    "colab_type": "text",
    "id": "DrX0W5si25pe"
   },
   "source": [
    "Выделим 20% данных в `delayed_data` в качестве выборки, на которой будет производиться финальное сравнение моделей (до конца ноутбука она более не используется), в `all_data` поместим оставшиеся 80%. Не будем перемешивать данные сознательно (для удобства проверки)."
   ]
  },
  {
   "cell_type": "code",
   "execution_count": 12,
   "metadata": {
    "colab": {
     "autoexec": {
      "startup": false,
      "wait_interval": 0
     }
    },
    "colab_type": "code",
    "id": "Deu3A-yc25pf"
   },
   "outputs": [],
   "source": [
    "delayed_data = all_data[int(0.8 * len(all_data)):]\n",
    "all_data = all_data[:int(0.8 * len(all_data))]"
   ]
  },
  {
   "cell_type": "markdown",
   "metadata": {
    "colab_type": "text",
    "id": "itCWxHEY25pg"
   },
   "source": [
    "Выделим значения метки класса в переменную `labels`, признаковые описания в переменную `feature_matrix`. Так как данные числовые и не имеют пропусков, переведем их в `numpy`-формат с помощью метода `.values`."
   ]
  },
  {
   "cell_type": "code",
   "execution_count": 13,
   "metadata": {
    "colab": {
     "autoexec": {
      "startup": false,
      "wait_interval": 0
     }
    },
    "colab_type": "code",
    "id": "f_YIUOuV25ph"
   },
   "outputs": [],
   "source": [
    "labels = all_data[all_data.columns[-1]].values\n",
    "feature_matrix = all_data[all_data.columns[:-1]].values\n",
    "\n",
    "delayed_labels = delayed_data[delayed_data.columns[-1]].values\n",
    "delayed_feature_matrix = delayed_data[delayed_data.columns[:-1]].values"
   ]
  },
  {
   "cell_type": "markdown",
   "metadata": {
    "colab_type": "text",
    "id": "dKCiU0wz25pj"
   },
   "source": [
    "#### 2.1 Двуклассовая классификация (10%)"
   ]
  },
  {
   "cell_type": "markdown",
   "metadata": {
    "colab_type": "text",
    "id": "LYDttiOJ25pj"
   },
   "source": [
    "Для начала будем работать только с двумя типами лесного покрытия. Обучите линейный классификатор для разделения двух классов. Данные разделите на train и test с помощью `train_test_split`."
   ]
  },
  {
   "cell_type": "code",
   "execution_count": 14,
   "metadata": {
    "colab": {
     "autoexec": {
      "startup": false,
      "wait_interval": 0
     }
    },
    "colab_type": "code",
    "id": "Q030jzyY25pl"
   },
   "outputs": [],
   "source": [
    "from sklearn.model_selection import train_test_split\n",
    "\n",
    "from sklearn.linear_model import LogisticRegression\n",
    "from sklearn.metrics import f1_score, accuracy_score"
   ]
  },
  {
   "cell_type": "code",
   "execution_count": 15,
   "metadata": {
    "colab": {
     "autoexec": {
      "startup": false,
      "wait_interval": 0
     }
    },
    "colab_type": "code",
    "id": "taWX6ME925pn"
   },
   "outputs": [],
   "source": [
    "two_class_labels_indices = (labels == 1) + (labels == 2)\n",
    "\n",
    "two_class_feature_matrix = feature_matrix[two_class_labels_indices]\n",
    "two_class_labels = labels[two_class_labels_indices]"
   ]
  },
  {
   "cell_type": "code",
   "execution_count": 16,
   "metadata": {
    "colab": {
     "autoexec": {
      "startup": false,
      "wait_interval": 0
     }
    },
    "colab_type": "code",
    "id": "zoQPXD_k25po"
   },
   "outputs": [],
   "source": [
    "train_feature_matrix, test_feature_matrix, train_labels, test_labels = train_test_split(two_class_feature_matrix, two_class_labels, test_size=0.2)"
   ]
  },
  {
   "cell_type": "markdown",
   "metadata": {
    "colab_type": "text",
    "id": "A8iDa9Je25pq"
   },
   "source": [
    "Обучите логистическую регрессию. Оцените качество классификации на отложенной выборке с помощью `accuracy` и `f1_score` ([Wikipedia](https://en.wikipedia.org/wiki/F1_score))."
   ]
  },
  {
   "cell_type": "code",
   "execution_count": 17,
   "metadata": {
    "colab": {
     "autoexec": {
      "startup": false,
      "wait_interval": 0
     }
    },
    "colab_type": "code",
    "id": "9CKtjwv_25pr"
   },
   "outputs": [],
   "source": [
    "lr_clf = LogisticRegression()"
   ]
  },
  {
   "cell_type": "code",
   "execution_count": 18,
   "metadata": {},
   "outputs": [],
   "source": [
    "# логистическая регрессия требует нормировки данных\n",
    "from sklearn.preprocessing import StandardScaler\n",
    "\n",
    "train_scaler = StandardScaler()\n",
    "train_scaler.fit(train_feature_matrix)\n",
    "scalled_train_feature_matrix = train_scaler.transform(train_feature_matrix)\n",
    "\n",
    "test_scaler = StandardScaler()\n",
    "test_scaler.fit(test_feature_matrix)\n",
    "scalled_test_feature_matrix = test_scaler.transform(test_feature_matrix)"
   ]
  },
  {
   "cell_type": "code",
   "execution_count": 19,
   "metadata": {},
   "outputs": [],
   "source": [
    "lr_clf.fit(scalled_train_feature_matrix, train_labels)\n",
    "lr_predict = lr_clf.predict(scalled_test_feature_matrix)"
   ]
  },
  {
   "cell_type": "code",
   "execution_count": 20,
   "metadata": {},
   "outputs": [
    {
     "data": {
      "text/plain": [
       "0.7682215743440233"
      ]
     },
     "execution_count": 20,
     "metadata": {},
     "output_type": "execute_result"
    }
   ],
   "source": [
    "prediction_correctness = np.asarray([int(predicted == actual) for predicted, actual in zip(lr_predict, test_labels)])\n",
    "accuracy = (prediction_correctness @ prediction_correctness.T) / len(prediction_correctness)\n",
    "accuracy"
   ]
  },
  {
   "cell_type": "code",
   "execution_count": 21,
   "metadata": {},
   "outputs": [
    {
     "name": "stdout",
     "output_type": "stream",
     "text": [
      "Accuracy=0.7682215743440233\n",
      "F1=0.7268041237113403\n"
     ]
    }
   ],
   "source": [
    "import sklearn.metrics as mes\n",
    "\n",
    "print(f'Accuracy={mes.accuracy_score(lr_predict, test_labels)}')\n",
    "print(f'F1={mes.f1_score(lr_predict, test_labels)}')"
   ]
  },
  {
   "cell_type": "markdown",
   "metadata": {
    "colab_type": "text",
    "id": "9MKHZ2JC25pv"
   },
   "source": [
    "#### 2.2 Многоклассовая классификация: логистическая регрессия (40%)"
   ]
  },
  {
   "cell_type": "markdown",
   "metadata": {
    "colab_type": "text",
    "id": "P1mWe4kJ25pv"
   },
   "source": [
    "**Комментарий:**\n",
    "\n",
    "*Логистическая регрессия позволяет решать и задачу многоклассовой классификации. Класс ``LogisticRegression`` позвляет это делать двумя способами:* \n",
    "- *1. Стандартный One vs Rest (т.е. каждый класс отделяется от всех других). Параметр `multi_class='ovr'`.*\n",
    "- *2. Используюя кросс-энтропию (оценивается сразу вектор вероятностей принадлежности классам). Параметр `multi_class='multinomial'`.*\n",
    "\n",
    "*По умолчанию будем использовать второй способ.*\n"
   ]
  },
  {
   "cell_type": "markdown",
   "metadata": {
    "colab_type": "text",
    "id": "BGn7U05I25pw"
   },
   "source": [
    "Теперь будем работать со всеми 7 типами покрытия (данные уже находятся в переменных `feature_matrix` и `labels`, если Вы их не переопределили). Разделите выборку на обучающую и тестовую с помощью метода `train_test_split`, используйте значения параметров `test_size=0.2`, `random_state=42`. Обучите логистическую регрессию  на данном датасете."
   ]
  },
  {
   "cell_type": "code",
   "execution_count": 22,
   "metadata": {
    "colab": {
     "autoexec": {
      "startup": false,
      "wait_interval": 0
     }
    },
    "colab_type": "code",
    "id": "xqzEKcdD25px"
   },
   "outputs": [],
   "source": [
    "lr_clf = LogisticRegression(solver=\"saga\", multi_class='multinomial', max_iter=3000, tol=0.01)\n",
    "\n",
    "train_feature_matrix, test_feature_matrix, train_labels, test_labels = train_test_split(feature_matrix, labels, test_size=0.2, random_state=42)"
   ]
  },
  {
   "cell_type": "markdown",
   "metadata": {
    "colab_type": "text",
    "id": "5QqTntPq25p0"
   },
   "source": [
    "С помощью 5-кратной кросс-валидации (`GridSearchCV`) подберите оптимальное значение параметров `С` и `penalty`. Для параметра `C` используйте набор значений `np.linspace(0.01, 1, 10)`, а для `penalty` - `['l1', 'l2']`. Критерий качества `scoring = 'accuracy'`."
   ]
  },
  {
   "cell_type": "code",
   "execution_count": 23,
   "metadata": {
    "colab": {
     "autoexec": {
      "startup": false,
      "wait_interval": 0
     }
    },
    "colab_type": "code",
    "id": "j-M-porJ25p0"
   },
   "outputs": [
    {
     "data": {
      "text/plain": [
       "GridSearchCV(cv=5,\n",
       "             estimator=LogisticRegression(max_iter=3000,\n",
       "                                          multi_class='multinomial',\n",
       "                                          solver='saga', tol=0.01),\n",
       "             param_grid={'C': array([0.01, 0.12, 0.23, 0.34, 0.45, 0.56, 0.67, 0.78, 0.89, 1.  ]),\n",
       "                         'penalty': ['l1', 'l2']},\n",
       "             scoring='accuracy')"
      ]
     },
     "execution_count": 23,
     "metadata": {},
     "output_type": "execute_result"
    }
   ],
   "source": [
    "from sklearn.model_selection import GridSearchCV\n",
    "\n",
    "train_scaler = StandardScaler()\n",
    "train_scaler.fit(train_feature_matrix)\n",
    "scalled_train_feature_matrix = train_scaler.transform(train_feature_matrix)\n",
    "\n",
    "param_to_learn = {'C':np.linspace(0.01, 1, 10), 'penalty': ['l1', 'l2']}\n",
    "clf = GridSearchCV(lr_clf, scoring='accuracy', cv=5, param_grid=param_to_learn)\n",
    "clf.fit(scalled_train_feature_matrix, train_labels)"
   ]
  },
  {
   "cell_type": "markdown",
   "metadata": {
    "colab_type": "text",
    "id": "rzsRzpiv25p2"
   },
   "source": [
    "Постройте графики средних значений критерия качества `accuracy` для типов регуляризации `l1` и `l2` в зависимости от коэффициента регуляризации `C`."
   ]
  },
  {
   "cell_type": "code",
   "execution_count": 24,
   "metadata": {},
   "outputs": [
    {
     "data": {
      "text/plain": [
       "array([[0.69171875, 0.700625  ],\n",
       "       [0.71125   , 0.71296875],\n",
       "       [0.7128125 , 0.71203125],\n",
       "       [0.7128125 , 0.71203125],\n",
       "       [0.7125    , 0.71234375],\n",
       "       [0.7128125 , 0.71265625],\n",
       "       [0.7125    , 0.71265625],\n",
       "       [0.7121875 , 0.7128125 ],\n",
       "       [0.71234375, 0.71265625],\n",
       "       [0.7125    , 0.7125    ]])"
      ]
     },
     "execution_count": 24,
     "metadata": {},
     "output_type": "execute_result"
    }
   ],
   "source": [
    "scores_mean = clf.cv_results_['mean_test_score']\n",
    "scores_mean = np.array(scores_mean).reshape(len(param_to_learn['C']),len(param_to_learn['penalty']))\n",
    "scores_mean"
   ]
  },
  {
   "cell_type": "code",
   "execution_count": 25,
   "metadata": {},
   "outputs": [
    {
     "data": {
      "image/png": "[encoded data removed]",
      "text/plain": [
       "<Figure size 432x288 with 1 Axes>"
      ]
     },
     "metadata": {
      "needs_background": "light"
     },
     "output_type": "display_data"
    }
   ],
   "source": [
    "from matplotlib import pyplot as plt\n",
    "\n",
    "plt.title(\"L1 and L2 norm plot\")\n",
    "plt.xlabel(\"Regularisation parametr C\")\n",
    "plt.ylabel(\"Accuracy\")\n",
    "plt.plot([elem[\"C\"] for elem in clf.cv_results_[\"params\"][::2]], clf.cv_results_[\"mean_test_score\"][::2], label=\"L1\")\n",
    "plt.plot([elem[\"C\"] for elem in clf.cv_results_[\"params\"][1::2]], clf.cv_results_[\"mean_test_score\"][1::2], label=\"L2\")\n",
    "plt.legend(loc=\"lower right\")\n",
    "plt.show()"
   ]
  },
  {
   "cell_type": "markdown",
   "metadata": {
    "colab_type": "text",
    "id": "IQraNf0M25p5"
   },
   "source": [
    "Проанализируйте полученные графики. Чему равны найденные оптимальные значения параметров `C` и `penalty`?"
   ]
  },
  {
   "cell_type": "code",
   "execution_count": 26,
   "metadata": {
    "colab": {
     "autoexec": {
      "startup": false,
      "wait_interval": 0
     }
    },
    "colab_type": "code",
    "id": "BkT1RWJj25p7"
   },
   "outputs": [
    {
     "name": "stdout",
     "output_type": "stream",
     "text": [
      "Optimal value = {'C': 0.12, 'penalty': 'l2'}\n"
     ]
    }
   ],
   "source": [
    "print(f'Optimal value = {clf.best_params_}')"
   ]
  },
  {
   "cell_type": "code",
   "execution_count": 27,
   "metadata": {},
   "outputs": [
    {
     "name": "stdout",
     "output_type": "stream",
     "text": [
      "Optimal value = {'C': 0.12, 'penalty': 'l2'}\n"
     ]
    }
   ],
   "source": [
    "# другой способ\n",
    "print(f'Optimal value = {clf.cv_results_[\"params\"][np.argmax(clf.cv_results_[\"mean_test_score\"])]}')"
   ]
  },
  {
   "cell_type": "markdown",
   "metadata": {
    "colab_type": "text",
    "id": "uIX7uVYk25p9"
   },
   "source": [
    "Используя найденные оптимальные значения `C` и `penalty`, обучите логистическую регрессию на обучающей выборке (train) и вычислите вероятности принадлежности к классам для тестовой (test)  выборки (`best_lr_clf.predict_proba`)."
   ]
  },
  {
   "cell_type": "code",
   "execution_count": 28,
   "metadata": {
    "colab": {
     "autoexec": {
      "startup": false,
      "wait_interval": 0
     }
    },
    "colab_type": "code",
    "id": "1rDNazlC25p9"
   },
   "outputs": [
    {
     "name": "stdout",
     "output_type": "stream",
     "text": [
      "0.7175\n"
     ]
    }
   ],
   "source": [
    "scaler = StandardScaler()\n",
    "scaler.fit(test_feature_matrix)\n",
    "scalled_test_feature_matrix = train_scaler.transform(test_feature_matrix)\n",
    "\n",
    "test_predicted = clf.best_estimator_.predict_proba(scalled_test_feature_matrix)\n",
    "print(accuracy_score(clf.best_estimator_.predict(scalled_test_feature_matrix), test_labels))"
   ]
  },
  {
   "cell_type": "markdown",
   "metadata": {
    "colab_type": "text",
    "id": "Ck7T2dGQ25p_"
   },
   "source": [
    "Для полученной матрицы вычислите усредненные по всем объектам из тестовой выборки значения вероятностей принадлежности к классам. Сравните ее оценкой вероятности принадлежности к классу на основе частот меток классов в обучающей выборке."
   ]
  },
  {
   "cell_type": "code",
   "execution_count": 29,
   "metadata": {
    "colab": {
     "autoexec": {
      "startup": false,
      "wait_interval": 0
     }
    },
    "colab_type": "code",
    "id": "JOf0BNix25qA"
   },
   "outputs": [
    {
     "name": "stdout",
     "output_type": "stream",
     "text": [
      "0.3677974932921513\t0.378125\n",
      "0.48255915749144296\t0.478125\n",
      "0.06566730080261302\t0.06625\n",
      "0.008810655404084662\t0.004375\n",
      "0.01685716695935243\t0.01375\n",
      "0.02995254508110296\t0.03\n",
      "0.028355680969252797\t0.029375\n"
     ]
    }
   ],
   "source": [
    "predicted = clf.best_estimator_.predict_proba(scalled_test_feature_matrix)\n",
    "for i in range(7):\n",
    "    print(np.average(predicted.T[i]), end=\"\\t\")\n",
    "    print(np.size(test_labels[test_labels == i + 1], 0) / np.size(test_labels, 0))"
   ]
  },
  {
   "cell_type": "markdown",
   "metadata": {
    "colab_type": "text",
    "id": "VYogShkD25qD"
   },
   "source": [
    "#### 2.3 Многоклассовая классификация: kNN (30%)."
   ]
  },
  {
   "cell_type": "markdown",
   "metadata": {
    "colab_type": "text",
    "id": "BHVNCaJ325qD"
   },
   "source": [
    "Вспомним первое занятие. Обучите на том же датасете `KNeighborsClassifier` из `sklearn`."
   ]
  },
  {
   "cell_type": "code",
   "execution_count": 30,
   "metadata": {
    "colab": {
     "autoexec": {
      "startup": false,
      "wait_interval": 0
     }
    },
    "colab_type": "code",
    "id": "o4CMnnOY25qD"
   },
   "outputs": [
    {
     "name": "stdout",
     "output_type": "stream",
     "text": [
      "0.725\n"
     ]
    }
   ],
   "source": [
    "from sklearn.neighbors import KNeighborsClassifier\n",
    "\n",
    "k_clf = KNeighborsClassifier()\n",
    "k_clf.fit(scalled_train_feature_matrix, train_labels)\n",
    "\n",
    "print(accuracy_score(test_labels, k_clf.predict(scalled_test_feature_matrix)))"
   ]
  },
  {
   "cell_type": "markdown",
   "metadata": {
    "colab_type": "text",
    "id": "Yl_foM3u25qF"
   },
   "source": [
    "Попробуйте использовать различные стратегии вычисления весов: `[‘uniform’, ‘distance’]`. Выберите одно из них самостоятельно. Чем обоснован Ваш выбор?"
   ]
  },
  {
   "cell_type": "markdown",
   "metadata": {
    "colab_type": "text",
    "id": "8WzoRJZd25qF"
   },
   "source": [
    "Переберите по сетке от `1` до `10` параметр числа соседей. Покажите на графике, как менялись значения критерия качества `accuracy` при изменении числа соседей."
   ]
  },
  {
   "cell_type": "code",
   "execution_count": 31,
   "metadata": {
    "colab": {
     "autoexec": {
      "startup": false,
      "wait_interval": 0
     }
    },
    "colab_type": "code",
    "id": "4lMSy-6f25qG"
   },
   "outputs": [
    {
     "name": "stdout",
     "output_type": "stream",
     "text": [
      "Accuracy for uniform weights = \t\t 0.725\n",
      "Accuracy for distance weights = \t 0.738125\n"
     ]
    }
   ],
   "source": [
    "k_clf = KNeighborsClassifier(weights=\"uniform\")\n",
    "k_clf.fit(scalled_train_feature_matrix, train_labels)\n",
    "print(\"Accuracy for uniform weights = \\t\\t %s\"%(accuracy_score(test_labels, k_clf.predict(scalled_test_feature_matrix))))\n",
    "\n",
    "k_clf = KNeighborsClassifier(weights=\"distance\")\n",
    "k_clf.fit(scalled_train_feature_matrix, train_labels)\n",
    "print(\"Accuracy for distance weights = \\t %s\"%(accuracy_score(test_labels, k_clf.predict(scalled_test_feature_matrix))))"
   ]
  },
  {
   "cell_type": "code",
   "execution_count": 39,
   "metadata": {},
   "outputs": [
    {
     "name": "stdout",
     "output_type": "stream",
     "text": [
      "Best n_neighbors: 6\n"
     ]
    },
    {
     "data": {
      "image/png": "[encoded data removed]",
      "text/plain": [
       "<Figure size 432x288 with 1 Axes>"
      ]
     },
     "metadata": {
      "needs_background": "light"
     },
     "output_type": "display_data"
    }
   ],
   "source": [
    "def get_accuracy(n_neighbors):\n",
    "    k_clf = KNeighborsClassifier(n_neighbors=n_neighbors, weights=\"distance\")\n",
    "    k_clf.fit(scalled_train_feature_matrix, train_labels)\n",
    "    return accuracy_score(test_labels, k_clf.predict(scalled_test_feature_matrix))\n",
    "\n",
    "\n",
    "indicies = [i + 1 for i in range(10)]\n",
    "accuracies = [get_accuracy(i) for i in indicies]\n",
    "\n",
    "from matplotlib import pyplot as plt\n",
    "plt.plot(indicies, accuracies)\n",
    "print(f'Best n_neighbors: {np.argmax(accuracies) + 1}')\n",
    "plt.show()"
   ]
  },
  {
   "cell_type": "markdown",
   "metadata": {
    "colab_type": "text",
    "id": "aBmiDbvV25qI"
   },
   "source": [
    "Используя найденное оптимальное число соседей, вычислите вероятности принадлежности к классам для тестовой выборки (`.predict_proba`)."
   ]
  },
  {
   "cell_type": "code",
   "execution_count": 40,
   "metadata": {
    "colab": {
     "autoexec": {
      "startup": false,
      "wait_interval": 0
     }
    },
    "colab_type": "code",
    "id": "ig_vS8O925qI"
   },
   "outputs": [
    {
     "data": {
      "text/plain": [
       "array([[0.82078436, 0.17921564, 0.        , ..., 0.        , 0.        ,\n",
       "        0.        ],\n",
       "       [0.        , 0.87162401, 0.12837599, ..., 0.        , 0.        ,\n",
       "        0.        ],\n",
       "       [0.84729505, 0.15270495, 0.        , ..., 0.        , 0.        ,\n",
       "        0.        ],\n",
       "       ...,\n",
       "       [0.43765227, 0.56234773, 0.        , ..., 0.        , 0.        ,\n",
       "        0.        ],\n",
       "       [0.48160727, 0.51839273, 0.        , ..., 0.        , 0.        ,\n",
       "        0.        ],\n",
       "       [0.        , 1.        , 0.        , ..., 0.        , 0.        ,\n",
       "        0.        ]])"
      ]
     },
     "execution_count": 40,
     "metadata": {},
     "output_type": "execute_result"
    }
   ],
   "source": [
    "k_clf = KNeighborsClassifier(n_neighbors=6, weights=\"distance\")\n",
    "k_clf.fit(scalled_train_feature_matrix, train_labels)\n",
    "k_clf.predict_proba(scalled_test_feature_matrix)"
   ]
  },
  {
   "cell_type": "markdown",
   "metadata": {},
   "source": [
    "Создайте объект `best_knn_clf`, который представляет собой лучший классификатор."
   ]
  },
  {
   "cell_type": "code",
   "execution_count": 46,
   "metadata": {},
   "outputs": [],
   "source": [
    "best_knn_clf = KNeighborsClassifier(n_neighbors=6, weights='distance')\n",
    "best_lr_clf = LogisticRegression(solver=\"saga\", multi_class='multinomial', max_iter=3000, tol=0.01, C=0.12, penalty='l2')\n",
    "\n",
    "_ = best_knn_clf.fit(scalled_train_feature_matrix, train_labels)\n",
    "_ = best_lr_clf.fit(scalled_train_feature_matrix, train_labels)"
   ]
  },
  {
   "cell_type": "code",
   "execution_count": 43,
   "metadata": {},
   "outputs": [],
   "source": [
    "#delayed_labels\n",
    "#delayed_feature_matrix"
   ]
  },
  {
   "cell_type": "code",
   "execution_count": 51,
   "metadata": {},
   "outputs": [
    {
     "name": "stdout",
     "output_type": "stream",
     "text": [
      "kNN accuracy = \t\t 0.7335\n",
      "LogReg Accuracy = \t 0.712\n"
     ]
    }
   ],
   "source": [
    "scaler = StandardScaler()\n",
    "scaler.fit(delayed_feature_matrix)\n",
    "scalled_delayed_feature_matrix = train_scaler.transform(delayed_feature_matrix)\n",
    "\n",
    "\n",
    "print(\"kNN accuracy = \\t\\t %s\"%(accuracy_score(delayed_labels, best_knn_clf.predict(scalled_delayed_feature_matrix))))\n",
    "print(\"LogReg Accuracy = \\t %s\"%(accuracy_score(delayed_labels, best_lr_clf.predict(scalled_delayed_feature_matrix))))"
   ]
  },
  {
   "cell_type": "markdown",
   "metadata": {
    "colab_type": "text",
    "id": "p41xvYTU25qK"
   },
   "source": [
    "#### 2.4 Сравнение результатов логистической регрессии и kNN (10%).\n",
    "\n",
    "В реальной жизни новые данные становятся доступны с течением времени. Сравните качество Вашей лучшей модели логистической регресии `best_lr_clf` и лучшего kNN `best_knn_clf` на отложенной выборке `delayed_data`. Какая из моделей показала лучший результат?"
   ]
  },
  {
   "cell_type": "code",
   "execution_count": null,
   "metadata": {
    "colab": {
     "autoexec": {
      "startup": false,
      "wait_interval": 0
     }
    },
    "colab_type": "code",
    "id": "xJFKTJx425qL"
   },
   "outputs": [],
   "source": [
    "# Ваш код здесь"
   ]
  },
  {
   "cell_type": "markdown",
   "metadata": {},
   "source": [
    "#### Не меняйте следующую ячейку. Запустите ее для генерации `submission` файла."
   ]
  },
  {
   "cell_type": "code",
   "execution_count": null,
   "metadata": {},
   "outputs": [],
   "source": [
    "# Do not change me, just run\n",
    "# !!!!!!!!!!!!!!!!!!!!!!!!!!!!!!!!!!!!!!!!!!!!!!!!\n",
    "_dict_for_submission['best_lr_clf_delayed'] = transform_list(list(best_lr_clf.predict(delayed_feature_matrix)))\n",
    "_dict_for_submission['best_knn_clf_delayed'] = transform_list(list(best_knn_clf.predict(delayed_feature_matrix)))\n",
    "\n",
    "import json\n",
    "with open('submission_hw1_basic.json', 'w') as iofile:\n",
    "    json.dump(_dict_for_submission, iofile)\n",
    "# !!!!!!!!!!!!!!!!!!!!!!!!!!!!!!!!!!!!!!!!!!!!!!!!"
   ]
  },
  {
   "cell_type": "markdown",
   "metadata": {},
   "source": [
    "Данный файл необходимо будет прикрепить к Google-форме для сдачи домашнего задания. __Для идентификации используется e-mail, который вы указали при регистрации на курс. Проверка производится автоматически. Если вы подпишитесь другим e-mail'ом, задание просто не будет засчитано.__"
   ]
  },
  {
   "cell_type": "markdown",
   "metadata": {},
   "source": [
    "На этом задание завершено. Мы будем рады, если вы оставите обратную связь по данному заданию [по ссылке](https://forms.gle/2qaf14ky3J6HZfe48). Она анонимна ;)"
   ]
  }
 ],
 "metadata": {
  "colab": {
   "collapsed_sections": [
    "dKCiU0wz25pj",
    "9MKHZ2JC25pv",
    "VYogShkD25qD",
    "p41xvYTU25qK"
   ],
   "default_view": {},
   "name": "HW1_Logistic_regression_and_SVM.ipynb",
   "provenance": [],
   "version": "0.3.2",
   "views": {}
  },
  "kernelspec": {
   "display_name": "Python 3",
   "language": "python",
   "name": "python3"
  },
  "language_info": {
   "codemirror_mode": {
    "name": "ipython",
    "version": 3
   },
   "file_extension": ".py",
   "mimetype": "text/x-python",
   "name": "python",
   "nbconvert_exporter": "python",
   "pygments_lexer": "ipython3",
   "version": "3.8.5"
  }
 },
 "nbformat": 4,
 "nbformat_minor": 1
}
